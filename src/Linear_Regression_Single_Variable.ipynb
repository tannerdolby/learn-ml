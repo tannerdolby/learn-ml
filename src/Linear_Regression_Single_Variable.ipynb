{
 "cells": [
  {
   "cell_type": "markdown",
   "id": "2bbe7342-d0c5-4fe1-a11a-f1329eabb097",
   "metadata": {},
   "source": [
    "# House Price Prediction\n",
    "\n",
    "I'm learning about supervised learning algorithms from a Coursera Machine Learning course by Andrew Ng. In this notebook, I'm practicing implementing a linear regression model using one variable.\n",
    "\n"
   ]
  },
  {
   "cell_type": "code",
   "execution_count": 22,
   "id": "e587271a-aa68-4352-bb3b-3a2b8bbf2b52",
   "metadata": {},
   "outputs": [],
   "source": [
    "# Import NumPy and Matplotlib\n",
    "import numpy as np\n",
    "import matplotlib.pyplot as plt\n",
    "from utils.create_markdown_table import *\n",
    "plt.style.use('../deeplearning.mplstyle')"
   ]
  },
  {
   "cell_type": "markdown",
   "id": "f75487a2-ffe0-4a9e-9acc-d3f55b697c66",
   "metadata": {},
   "source": [
    "## Problem Statement\n",
    "I want to predict the price of a house based on its size in sqft. The training set will include some recent house sales from [Redfin](https://www.realtor.com/realestateandhomes-search/Roseville_CA/show-recently-sold). Where the input features are house size (1000 sqft) and output targets are the closing sale price (1000s of dollars). For example, the first training example in the table below is a house size of 1464 sqft which sold for $215,000.\n",
    "\n",
    "\n",
    "| Size (1000 sqft) | Price (1000s of dollars) |\n",
    "|------------------|--------------------------|\n",
    "| 1.464            | 215.0                    |\n",
    "| 2.39             | 635.0                    |\n",
    "| 1.296            | 453.99                   |\n",
    "| 2.838            | 1100.0                   |\n",
    "| 2.37             | 673.0                    |\n",
    "| 2.362            | 775.0                    |\n",
    "| 1.343            | 559.9                    |\n",
    "| 1.966            | 651.0                    |\n",
    "| 1.974            | 565.0                    |\n",
    "| 2.08             | 765.873                  |\n",
    "| 0.974            | 452.5                    |\n",
    "| 1.334            | 480.0                    |\n",
    "| 1.822            | 730.0                    |\n",
    "| 2.853            | 1206.5                   |"
   ]
  },
  {
   "cell_type": "code",
   "execution_count": 12,
   "id": "0d3d1d31-274e-4c82-b51a-0150fc6bd204",
   "metadata": {},
   "outputs": [
    {
     "name": "stdout",
     "output_type": "stream",
     "text": [
      "| Size (1000 sqft) | Price (1000s of dollars) | \n",
      "|------------------|--------------------------|\n",
      "| 1.464            | 215.0                    |\n",
      "| 2.39             | 635.0                    |\n",
      "| 1.296            | 453.99                   |\n",
      "| 2.838            | 1100.0                   |\n",
      "| 2.37             | 673.0                    |\n",
      "| 2.362            | 775.0                    |\n",
      "| 1.343            | 559.9                    |\n",
      "| 1.966            | 651.0                    |\n",
      "| 1.974            | 565.0                    |\n",
      "| 2.08             | 765.873                  |\n",
      "| 0.974            | 452.5                    |\n",
      "| 1.334            | 480.0                    |\n",
      "| 1.822            | 730.0                    |\n",
      "| 2.853            | 1206.5                   |\n",
      "\n",
      "\n",
      "Training Examples: 14\n",
      "1464.0 sqft house sold for $215000.0 - (1.464, 215.0)\n",
      "2390.0 sqft house sold for $635000.0 - (2.39, 635.0)\n",
      "1296.0 sqft house sold for $453990.0 - (1.296, 453.99)\n",
      "2838.0 sqft house sold for $1100000.0 - (2.838, 1100.0)\n",
      "2370.0 sqft house sold for $673000.0 - (2.37, 673.0)\n",
      "2362.0 sqft house sold for $775000.0 - (2.362, 775.0)\n",
      "1343.0 sqft house sold for $559900.0 - (1.343, 559.9)\n",
      "1966.0 sqft house sold for $651000.0 - (1.966, 651.0)\n",
      "1974.0 sqft house sold for $565000.0 - (1.974, 565.0)\n",
      "2080.0 sqft house sold for $765873.0 - (2.08, 765.873)\n",
      "974.0 sqft house sold for $452500.0 - (0.974, 452.5)\n",
      "1334.0 sqft house sold for $480000.0 - (1.334, 480.0)\n",
      "1822.0 sqft house sold for $730000.0 - (1.822, 730.0)\n",
      "2853.0 sqft house sold for $1206500.0 - (2.853, 1206.5)\n"
     ]
    }
   ],
   "source": [
    "x_train = np.array([1.464, 2.39, 1.296, 2.838, 2.370, 2.362, 1.343, 1.966, 1.974, 2.080, .974, 1.334, 1.822, 2.853])\n",
    "y_train = np.array([215, 635, 453.990, 1100, 673, 775, 559.90, 651, 565, 765.873, 452.5, 480, 730, 1206.50])\n",
    "m = x_train.shape[0]\n",
    "\n",
    "headers = list(['Size (1000 sqft)', 'Price (1000s of dollars)'])\n",
    "cols = list([x_train, y_train])\n",
    "markdownTable = create_markdown_table(headers, cols, m)\n",
    "\n",
    "print(markdownTable + \"\\n\")\n",
    "print(f\"Training Examples: {m}\")\n",
    "for i in range(m):\n",
    "    print(f\"{x_train[i]*1000} sqft house sold for ${y_train[i]*1000} - ({x_train[i]}, {y_train[i]})\")"
   ]
  },
  {
   "cell_type": "markdown",
   "id": "d96af22f-3fa8-4ee1-a71e-d460415be77c",
   "metadata": {},
   "source": [
    "## Model\n",
    "\n",
    "The linear regression model will take an array of input features `x` (house size in 1000 sqft) and parameters `w` and `b` in order to make a prediction for housing prices. The models prediction/guess will be represtented as $\\hat{y}$ (y-hat)\n",
    "\n",
    "Where `w` can be thought of as the slope of the line and `b` the y-intercept:\n",
    "\n",
    "General: $$F_{w,b}(x) = w * x + b$$\n",
    "\n",
    "For the $i^{th}$ training example: $$F_{w,b}(x^{(i)}) = w * x^{(i)} + b$$"
   ]
  },
  {
   "cell_type": "code",
   "execution_count": 13,
   "id": "853b5598-97ff-4775-8a55-8d6e15ea75ab",
   "metadata": {},
   "outputs": [],
   "source": [
    "w = 325\n",
    "b = 50"
   ]
  },
  {
   "cell_type": "code",
   "execution_count": 14,
   "id": "e6a1ec11-ba50-420c-b991-30d2373aacdb",
   "metadata": {},
   "outputs": [],
   "source": [
    "def compute_model_output(x, w, b):\n",
    "    \"\"\"\n",
    "    Compute house price prediction of a linear model\n",
    "    Args:\n",
    "        x (ndarray (m,)) : Data, m examples\n",
    "        w,b (scalar)     : parameters\n",
    "    Returns:\n",
    "        f_wb (ndarray (m,)) : predictions\n",
    "    \"\"\"\n",
    "    m = x.shape[0]\n",
    "    f_wb = np.zeros(m)\n",
    "    for i in range(m):\n",
    "        f_wb[i] = w * x[i] + b\n",
    "    return f_wb"
   ]
  },
  {
   "cell_type": "code",
   "execution_count": 15,
   "id": "95b30508-b9a2-40eb-97dd-824b91dfe33b",
   "metadata": {},
   "outputs": [
    {
     "data": {
      "image/png": "[encoded data removed]",
      "text/plain": [
       "<Figure size 640x480 with 1 Axes>"
      ]
     },
     "metadata": {},
     "output_type": "display_data"
    }
   ],
   "source": [
    "plt.scatter(x_train, y_train, marker='x', c='red')\n",
    "plt.title(\"Training Set\")\n",
    "plt.ylabel(\"Price (in 1000s of dollars)\")\n",
    "plt.xlabel(\"Size (in 1000s of sqft)\")\n",
    "plt.show()"
   ]
  },
  {
   "cell_type": "code",
   "execution_count": 16,
   "id": "b296ca5d-f60b-456b-9111-f2c319f86ad0",
   "metadata": {},
   "outputs": [
    {
     "name": "stdout",
     "output_type": "stream",
     "text": [
      "[525.8   826.75  471.2   972.35  820.25  817.65  486.475 688.95  691.55\n",
      " 726.    366.55  483.55  642.15  977.225]\n"
     ]
    }
   ],
   "source": [
    "tmp_f_wb = compute_model_output(x_train, w, b)\n",
    "print(tmp_f_wb)"
   ]
  },
  {
   "cell_type": "markdown",
   "id": "7077a620-c6c1-4284-9f8f-b365c5800bf4",
   "metadata": {},
   "source": [
    "Let's draw a straight blue line through the training set data using our model output to see if the parameters need any tuning. Then we can begin using the model for house price predictions based on an input house size in sqft"
   ]
  },
  {
   "cell_type": "code",
   "execution_count": 17,
   "id": "82114aeb-b8d2-41d8-9e81-7f9b3d0c5862",
   "metadata": {},
   "outputs": [
    {
     "data": {
      "image/png": "[encoded data removed]",
      "text/plain": [
       "<Figure size 640x480 with 1 Axes>"
      ]
     },
     "metadata": {},
     "output_type": "display_data"
    }
   ],
   "source": [
    "plt.scatter(x_train, y_train, marker='x', c='r', label='Actual Values')\n",
    "plt.plot(x_train, tmp_f_wb, c='b', label='Our Prediction')\n",
    "plt.title(\"Housing Prices\")\n",
    "plt.ylabel(\"Price (in 1000s of dollars)\")\n",
    "plt.xlabel(\"Size (in 1000s of sqft)\")\n",
    "plt.legend()\n",
    "plt.show()"
   ]
  },
  {
   "cell_type": "markdown",
   "id": "fc0f5835-6df9-4c07-80c5-3155b96fc106",
   "metadata": {},
   "source": [
    "Since the model is only using a single variable (house size in sqft), we aren't taking into account the number of bedrooms, bathrooms, lot size, or area which can have a large impact on the overall price of the house.\n",
    "\n",
    "That being said, our imaginary client has a house size of 1750 sqft and wants to know a good price to initially list it on the market. Let's use our model and see what we can find out."
   ]
  },
  {
   "cell_type": "code",
   "execution_count": 18,
   "id": "c6dd4526-261a-48c3-8fa0-1fddd2671244",
   "metadata": {},
   "outputs": [
    {
     "name": "stdout",
     "output_type": "stream",
     "text": [
      "A house size of 1750.0 sqft can sell for approximately $618750.0 in the current market\n"
     ]
    }
   ],
   "source": [
    "client_house_size = np.array([1.75])\n",
    "prediction = compute_model_output(client_house_size, w, b)\n",
    "print(f\"A house size of {client_house_size[0]*1000} sqft can sell for approximately ${prediction[0]*1000} in the current market\")"
   ]
  },
  {
   "cell_type": "markdown",
   "id": "746549b0-cc98-4293-be8a-976fdea75330",
   "metadata": {},
   "source": [
    "## How to improve the model?\n",
    "\n",
    "Using a cost function! I'm learning about cost functions next and that is a function that tells us how well a line is fit to the data/training set. Instead of manually plugging in different parameter values into the model function and visually seeing if it it's a good fit to the data when we plot the line. We can use a cost function and test different values for `w` and `b` to determine exactly how well a line fits the data for the provided parameter values.\n",
    "\n",
    "### Cost Function Formula\n",
    "A cost function determines how well a line fits the data. For example, the linear regression model will output predictions $\\hat{y}$ for a given input and the goal is to find parameter values for `w` and `b` such that model predicitions $\\hat{y}^{(i)}$ are very close to the actual output targets in the training set $y^{(i)}$ for all or mostly all training examples: ($x^{(i)}$, $y^{(i)}$)\n",
    "\n",
    "Error (how far off the model prediction is from the target):\n",
    "$$(\\hat{y} - y)$$\n",
    "\n",
    "Squared Error (for the $i^{th}$ training example):\n",
    "$$(\\hat{y}^{(i)} - y^{(i)})^2$$\n",
    "\n",
    "Squared error cost function across entire training set (Total sum of squared errors) as `m` gets bigger the cost function will calculate larger sums because its summing over more training examples:\n",
    "$$\\sum_{i=1}^m (\\hat{y}^{(i)} - y^{(i)})^2$$\n",
    "\n",
    "Squared error cost function across entire training set (Average sum of squared errors):\n",
    "$${1\\over{2m}}\\sum_{i=1}^m (\\hat{y}^{(i)} - y^{(i)})^2$$\n",
    "\n",
    "\n",
    "#### Linear Regression with one variable using cost function\n",
    "Linear Regression Model:\n",
    "$$f_{w,b}(x)=w*x+b$$\n",
    "\n",
    "$$\\hat{y}=w*x+b$$\n",
    "\n",
    "Parameters:\n",
    "$$w,b$$\n",
    "\n",
    "Cost Function (Squared Error):\n",
    "$$J(w,b)={1\\over2m}\\sum_{i=1}^m (\\hat{y}^{(i)} - y^{(i)})^2$$\n",
    "$$J(w,b)={1\\over2m}\\sum_{i=1}^m (f_{w,b}(x^{(i)}) - y^{(i)})^2$$\n",
    "\n",
    "\n",
    "Goal:\n",
    "Minimize the cost function $J(w,b)$ and find the cost that is closest to zero\n"
   ]
  },
  {
   "cell_type": "markdown",
   "id": "49abc445-25a2-4778-9d59-96629c7dc7ae",
   "metadata": {},
   "source": [
    "## How to minimize the cost function J(w,b) and get the smallest error cost?\n",
    "\n",
    "In the next session, we learn about Gradient Descent which is an algorithm for automatically finding the values of parameters `w` and `b` that minimize the cost function $J(w,b)$"
   ]
  }
 ],
 "metadata": {
  "kernelspec": {
   "display_name": "Python 3 (ipykernel)",
   "language": "python",
   "name": "python3"
  },
  "language_info": {
   "codemirror_mode": {
    "name": "ipython",
    "version": 3
   },
   "file_extension": ".py",
   "mimetype": "text/x-python",
   "name": "python",
   "nbconvert_exporter": "python",
   "pygments_lexer": "ipython3",
   "version": "3.9.6"
  }
 },
 "nbformat": 4,
 "nbformat_minor": 5
}
