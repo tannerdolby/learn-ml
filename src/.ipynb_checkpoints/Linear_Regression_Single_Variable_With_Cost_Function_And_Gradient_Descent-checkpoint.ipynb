{
 "cells": [
  {
   "cell_type": "markdown",
   "id": "9c822a92-857f-48fe-8f44-ea3e6ff48838",
   "metadata": {},
   "source": [
    "# Linear Regression Using One Variable With Cost Function and Gradient Descent\n",
    "\n",
    "Building off the previous notebook, I will implement a cost function and gradient descent to improve the linear regression model. Using the same training set of house sales from Redfin.\n",
    "\n",
    "Goals:\n",
    "- Optimize parameters `w` and `b` for the linear regression model programmatically using gradient descent\n"
   ]
  },
  {
   "cell_type": "markdown",
   "id": "9d93b7bd-4a74-43bc-997b-4b2ccf6bc863",
   "metadata": {},
   "source": [
    "## Tools\n",
    "- NumPy\n",
    "- Matplotlib"
   ]
  },
  {
   "cell_type": "code",
   "execution_count": 7,
   "id": "b159ee74-f661-442d-bac7-6e6966e26a11",
   "metadata": {},
   "outputs": [],
   "source": [
    "import numpy as np\n",
    "%matplotlib widget\n",
    "import matplotlib.pyplot as plt\n",
    "from utils.regression_helpers import plt_intuition, plt_stationary\n",
    "plt.style.use('../deeplearning.mplstyle')"
   ]
  },
  {
   "cell_type": "markdown",
   "id": "18d7fa7f-469c-462e-806a-fa87573623ee",
   "metadata": {},
   "source": [
    "## Problem Statement\n",
    "Predict the price of a house based on its size in sqft. The training set will include some recent house sales from [Redfin](https://www.realtor.com/realestateandhomes-search/Roseville_CA/show-recently-sold). Where the input features are house size (1000 sqft) and output targets are the closing sale price (1000s of dollars). For example, the first training example in the table below is a house size of 1464 sqft which sold for $215,000.\n",
    "\n",
    "| Size (1000 sqft) | Price (1000s of dollars) |\n",
    "|------------------|--------------------------|\n",
    "| 1.464            | 215.0                    |\n",
    "| 2.39             | 635.0                    |\n",
    "| 1.296            | 453.99                   |\n",
    "| 2.838            | 1100.0                   |\n",
    "| 2.37             | 673.0                    |\n",
    "| 2.362            | 775.0                    |\n",
    "| 1.343            | 559.9                    |\n",
    "| 1.966            | 651.0                    |\n",
    "| 1.974            | 565.0                    |\n",
    "| 2.08             | 765.873                  |\n",
    "| 0.974            | 452.5                    |\n",
    "| 1.334            | 480.0                    |\n",
    "| 1.822            | 730.0                    |\n",
    "| 2.853            | 1206.5                   |"
   ]
  },
  {
   "cell_type": "markdown",
   "id": "1a4328e8-0cd2-4a7b-892a-fed2356e0480",
   "metadata": {},
   "source": [
    "## Linear Regression Model, Cost Function, and Gradient Descent\n",
    "Linear Regression Model:\n",
    "$$f_{w,b}(x)=wx+b\\tag{1}$$\n",
    "\n",
    "Cost Function:\n",
    "$$J(w,b)={1\\over2m}\\sum_{i=0}^{m-1}(f_{w,b}(x^{(i)}) - y^{(i)})^2\\tag{2}$$\n",
    "\n",
    "Gradient Descent Algorithm:\n",
    "Repeat until convergence {\n",
    "$$w = w - \\alpha * {\\partial\\over\\partial{w}}J(w,b)\\tag{3}$$\n",
    "$$b = b - \\alpha * {\\partial\\over\\partial{b}}J(w,b)\\tag{4}$$\n",
    "}\n",
    "\n",
    "where the paramters `w` and `b` are updated simultaneously. The gradient is defined as:\n",
    "\n",
    "$${\\partial\\over\\partial{w}}J(w,b)={1\\over{m}}\\sum_{i=0}^{m-1}(f_{w,b}(x^{(i)}) - y^{(i)})*x^{(i)}\\tag{5}$$\n",
    "\n",
    "$${\\partial\\over\\partial{w}}J(w,b)={1\\over{m}}\\sum_{i=0}^{m-1}(f_{w,b}(x^{(i)}) - y^{(i)}\\tag{6})$$\n",
    "\n",
    "Calculating the parameters w and b simultaneously means calculating the partial derivative of all the parameters before updating the parameters with the new values.\n",
    "### Terms\n",
    "Linear Regression Model parameters: $$w, b\\tag{7}$$\n",
    "Learning rate - positive value between [0, 1]: $$\\alpha\\tag{8}$$\n",
    "Partial derivative with respect to w:$${\\partial\\over\\partial{w}}\\tag{9}$$\n",
    "Partial derivative with respect to b:$${\\partial\\over\\partial{b}}\\tag{10}$$"
   ]
  },
  {
   "cell_type": "code",
   "execution_count": 8,
   "id": "3f552f05-1672-433d-bb44-7d2c0dd379c7",
   "metadata": {},
   "outputs": [],
   "source": [
    "# Load training set\n",
    "x_train = np.array([1.464, 2.39, 1.296, 2.838, 2.370, 2.362, 1.343, 1.966, 1.974, 2.080, .974, 1.334, 1.822, 2.853])\n",
    "y_train = np.array([215, 635, 453.990, 1100, 673, 775, 559.90, 651, 565, 765.873, 452.5, 480, 730, 1206.50])\n",
    "m = x_train.shape[0]"
   ]
  },
  {
   "cell_type": "markdown",
   "id": "e66242dd-1ab0-4216-b13a-8c7a737c9692",
   "metadata": {},
   "source": [
    "## Implement Gradient Descent\n",
    "Implementing the gradient descent algorithm for one feature. We will need the following three functions:\n",
    "- `compute_gradient`: implementing equation (5) and (6)\n",
    "- `compute_cost`: implementing equation(2)\n",
    "- `gradient_descent`: utilizing compute_gradient and compute_cost"
   ]
  },
  {
   "cell_type": "markdown",
   "id": "8f0081aa-403e-4a10-8c15-2375f97428d4",
   "metadata": {},
   "source": [
    "### compute_gradient\n",
    "`compute_gradient` implements equation (5) and (6) and returns the partial derivatives of the parameters: ${\\partial\\over\\partial{w}}J(w,b)$, ${\\partial\\over\\partial{b}}J(w,b)$"
   ]
  },
  {
   "cell_type": "code",
   "execution_count": 9,
   "id": "2578db4b-3bd9-4ca8-b7dd-100592684bc1",
   "metadata": {},
   "outputs": [],
   "source": [
    "def compute_gradient(x, y, w, b):\n",
    "    \"\"\"\n",
    "    Computes the gradient for linear regression\n",
    "    \"\"\"\n",
    "    m = x.shape[0]\n",
    "    dj_dw = 0\n",
    "    dj_db = 0\n",
    "\n",
    "    for i in range(m):\n",
    "        f_wb = w * x[i] + b\n",
    "        dj_dw_i += (f_wb - y[i]) * x[i]\n",
    "        dj_db_i += (f_wb - y[i])\n",
    "        dj_dw += dj_dw_i\n",
    "        dj_db += dj_db_i\n",
    "    dj_dw /= m\n",
    "    dj_db /= m\n",
    "\n",
    "    return dj_dw, dj_db\n",
    "    "
   ]
  },
  {
   "cell_type": "markdown",
   "id": "2c32d3d1-e4cb-4d30-9b15-5328c8146f60",
   "metadata": {},
   "source": [
    "### compute_cost\n",
    "`compute_cost` implements equation (2) and returns the total cost from the cost function J(w,b)"
   ]
  },
  {
   "cell_type": "code",
   "execution_count": 10,
   "id": "52e5e1fe-22b0-4b0a-8bd9-d35ffde75224",
   "metadata": {},
   "outputs": [],
   "source": [
    "def compute_cost(x, y, w, b):\n",
    "    \"\"\"\n",
    "    Compute cost function J(w,b)\n",
    "    \n",
    "    Args:\n",
    "      x (ndarray (m,)): Data, m input examples \n",
    "      y (ndarray (m,)): target values\n",
    "      w,b (scalar)    : model parameters  \n",
    "    \n",
    "    Returns\n",
    "        total_cost (float): The cost of using w,b as the parameters for linear regression\n",
    "               to fit the data points in x and y\n",
    "    \"\"\"\n",
    "    m = x.shape[0]\n",
    "    total_cost = 0\n",
    "    cost_sum = 0\n",
    "\n",
    "    for i in range(m):\n",
    "        f_wb = w * x[i] + b\n",
    "        cost = (f_wb - y[i]) ** 2\n",
    "        cost_sum += cost\n",
    "\n",
    "    total_cost = (1/2*m) * cost_sum\n",
    "\n",
    "    return total_cost"
   ]
  },
  {
   "cell_type": "code",
   "execution_count": 11,
   "id": "3a7890d4-56ff-4b0f-a6ac-53df3348af7e",
   "metadata": {},
   "outputs": [
    {
     "data": {
      "application/vnd.jupyter.widget-view+json": {
       "model_id": "7c4b9da67e204ad6b844badbb67de45f",
       "version_major": 2,
       "version_minor": 0
      },
      "text/plain": [
       "interactive(children=(IntSlider(value=150, description='w', max=400, step=10), Output()), _dom_classes=('widge…"
      ]
     },
     "metadata": {},
     "output_type": "display_data"
    },
    {
     "data": {
      "application/vnd.jupyter.widget-view+json": {
       "model_id": "32546b86745c4cd38d25aa0e816243fd",
       "version_major": 2,
       "version_minor": 0
      },
      "image/png": "[encoded data removed]",
      "text/html": [
       "\n",
       "            <div style=\"display: inline-block;\">\n",
       "                <div class=\"jupyter-widgets widget-label\" style=\"text-align: center;\">\n",
       "                    Figure\n",
       "                </div>\n",
       "                <img src='data:image/png;base64,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' width=800.0/>\n",
       "            </div>\n",
       "        "
      ],
      "text/plain": [
       "Canvas(toolbar=Toolbar(toolitems=[('Home', 'Reset original view', 'home', 'home'), ('Back', 'Back to previous …"
      ]
     },
     "metadata": {},
     "output_type": "display_data"
    }
   ],
   "source": []
  },
  {
   "cell_type": "markdown",
   "id": "0acd943e-be24-45bb-9c8f-11a5beb07904",
   "metadata": {},
   "source": [
    "### gradient_descent"
   ]
  },
  {
   "cell_type": "code",
   "execution_count": null,
   "id": "c5c2513c-bea0-4fbd-9ccb-72d0405bb280",
   "metadata": {},
   "outputs": [],
   "source": []
  },
  {
   "cell_type": "code",
   "execution_count": 12,
   "id": "badb9bda-1e8c-4bf2-b422-80c458ed828c",
   "metadata": {},
   "outputs": [
    {
     "name": "stdout",
     "output_type": "stream",
     "text": [
      "7601283.131603\n"
     ]
    }
   ],
   "source": [
    "w = 200\n",
    "b = 50\n",
    "\n",
    "cost = compute_cost(x_train, y_train, w, b)\n",
    "print(cost)"
   ]
  },
  {
   "cell_type": "markdown",
   "id": "d4486d78-c8d6-4f8a-b7d0-cdbbf447db8b",
   "metadata": {},
   "source": [
    "TODO: Compute gradient, perform gradient descent, and plot things"
   ]
  },
  {
   "cell_type": "code",
   "execution_count": null,
   "id": "bc4079e2-40b5-4810-8a06-164cd4a09111",
   "metadata": {},
   "outputs": [],
   "source": []
  }
 ],
 "metadata": {
  "kernelspec": {
   "display_name": "Python 3 (ipykernel)",
   "language": "python",
   "name": "python3"
  },
  "language_info": {
   "codemirror_mode": {
    "name": "ipython",
    "version": 3
   },
   "file_extension": ".py",
   "mimetype": "text/x-python",
   "name": "python",
   "nbconvert_exporter": "python",
   "pygments_lexer": "ipython3",
   "version": "3.9.6"
  }
 },
 "nbformat": 4,
 "nbformat_minor": 5
}
